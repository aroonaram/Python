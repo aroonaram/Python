{
 "cells": [
  {
   "cell_type": "code",
   "execution_count": 1,
   "metadata": {},
   "outputs": [],
   "source": [
    "i = 10"
   ]
  },
  {
   "cell_type": "code",
   "execution_count": 3,
   "metadata": {},
   "outputs": [],
   "source": [
    "def test():\n",
    "    pass"
   ]
  },
  {
   "cell_type": "code",
   "execution_count": 4,
   "metadata": {},
   "outputs": [],
   "source": [
    "class test:\n",
    "    pass"
   ]
  },
  {
   "cell_type": "code",
   "execution_count": 5,
   "metadata": {},
   "outputs": [],
   "source": [
    "class person:\n",
    "    pass"
   ]
  },
  {
   "cell_type": "code",
   "execution_count": 9,
   "metadata": {},
   "outputs": [
    {
     "data": {
      "text/plain": [
       "type"
      ]
     },
     "execution_count": 9,
     "metadata": {},
     "output_type": "execute_result"
    }
   ],
   "source": [
    "p = person\n",
    "type(p)"
   ]
  },
  {
   "cell_type": "code",
   "execution_count": 8,
   "metadata": {},
   "outputs": [
    {
     "name": "stdout",
     "output_type": "stream",
     "text": [
      "<class '__main__.person'>\n"
     ]
    }
   ],
   "source": [
    "print(p)"
   ]
  },
  {
   "cell_type": "code",
   "execution_count": 13,
   "metadata": {},
   "outputs": [],
   "source": [
    "p.fname = \"aroona\"\n",
    "p.lname = \"atmaram\"\n",
    "p.yob = \"1981\""
   ]
  },
  {
   "cell_type": "code",
   "execution_count": 14,
   "metadata": {},
   "outputs": [],
   "source": [
    "a = person\n",
    "a.fname = \"ram\"\n",
    "a.lname = \"rao\"\n",
    "a.yob = \"1977\"\n",
    "a.empid = \"002\""
   ]
  },
  {
   "cell_type": "code",
   "execution_count": 15,
   "metadata": {},
   "outputs": [
    {
     "data": {
      "text/plain": [
       "'ram'"
      ]
     },
     "execution_count": 15,
     "metadata": {},
     "output_type": "execute_result"
    }
   ],
   "source": [
    "p.fname  # bad practice of assigning; the value gets overridden"
   ]
  },
  {
   "cell_type": "code",
   "execution_count": null,
   "metadata": {},
   "outputs": [],
   "source": [
    "# Assigning values to class variables"
   ]
  },
  {
   "cell_type": "code",
   "execution_count": 2,
   "metadata": {},
   "outputs": [],
   "source": [
    "class person:\n",
    "    def __init__(self,name,surname,yob): # uses of the method;\n",
    "        # when we crate a class we create properties of the class too\n",
    "        #pass data to class through init\n",
    "        self.name = name\n",
    "        self.surname = surname\n",
    "        self.yob = yob\n",
    "    \n",
    "        "
   ]
  },
  {
   "cell_type": "code",
   "execution_count": 7,
   "metadata": {},
   "outputs": [
    {
     "name": "stdout",
     "output_type": "stream",
     "text": [
      "aroona\n",
      "Aparna\n"
     ]
    }
   ],
   "source": [
    "p1 = person(\"Aroona\",\"atmaram\",2344)\n",
    "p2 = person(\"Aparna\",\"atmaram\",2345)\n",
    "print(p1.name)\n",
    "print(p2.name)"
   ]
  },
  {
   "cell_type": "code",
   "execution_count": 9,
   "metadata": {},
   "outputs": [],
   "source": [
    "class person:\n",
    "    def __init__(self,name,surname,yob): # uses of the method;\n",
    "        # when we crate a class we create properties of the class too\n",
    "        #pass data to class through init\n",
    "        self.name = name\n",
    "        self.surname = surname\n",
    "        self.yob = yob\n",
    "    def test(self,n,m):\n",
    "        return n+m+self.yob  #\n",
    "    "
   ]
  },
  {
   "cell_type": "code",
   "execution_count": 11,
   "metadata": {},
   "outputs": [
    {
     "data": {
      "text/plain": [
       "13"
      ]
     },
     "execution_count": 11,
     "metadata": {},
     "output_type": "execute_result"
    }
   ],
   "source": [
    "p = person(\"aa\",\"bb\",10)\n",
    "p.test(1,2)"
   ]
  },
  {
   "cell_type": "code",
   "execution_count": null,
   "metadata": {},
   "outputs": [],
   "source": [
    "class person:\n",
    "    def __init__(self,name,surname,yob): # uses of the method;\n",
    "        # when we crate a class we create properties of the class too\n",
    "        #pass data to class through init\n",
    "        self.name = name\n",
    "        self.surname = surname\n",
    "        self.yob = yob\n",
    "    def test(self,n,m):\n",
    "        return n+m+self.yob  #\n",
    "    def __str__(self): # syntax is correct; compiles ok but runtime it throws an error\n",
    "        return 1"
   ]
  },
  {
   "cell_type": "code",
   "execution_count": 37,
   "metadata": {},
   "outputs": [],
   "source": [
    "class person:\n",
    "    def __init__(self,name,surname,yob): # uses of the method;\n",
    "        # when we crate a class we create properties of the class too\n",
    "        #pass data to class through init\n",
    "        self.name = name\n",
    "        self.surname = surname\n",
    "        self.yob = yob\n",
    "    def test(self,n,m):\n",
    "        return n+m+self.yob  #\n",
    "    def __str__(self): # syntax is correct; compiles ok but runtime it throws an error\n",
    "        return \"%s %s %s\"%(self.name,self.surname,self.yob)"
   ]
  },
  {
   "cell_type": "code",
   "execution_count": 18,
   "metadata": {},
   "outputs": [
    {
     "name": "stdout",
     "output_type": "stream",
     "text": [
      "aa bb 10\n"
     ]
    }
   ],
   "source": [
    "p = person(\"aa\",\"bb\",10)\n",
    "\n",
    "print(p)"
   ]
  },
  {
   "cell_type": "code",
   "execution_count": 27,
   "metadata": {},
   "outputs": [],
   "source": [
    "# data to class\n",
    "\n",
    "class person:\n",
    "    def pass_name(self,name):\n",
    "        self.name = name\n",
    "        \n",
    "    def pass_lname(self,lname):\n",
    "        self.lname = lname\n",
    "    def pass_yob(self,yob):\n",
    "        self.yob = yob\n",
    "        "
   ]
  },
  {
   "cell_type": "code",
   "execution_count": 28,
   "metadata": {},
   "outputs": [],
   "source": [
    "p = person()"
   ]
  },
  {
   "cell_type": "code",
   "execution_count": 29,
   "metadata": {},
   "outputs": [],
   "source": [
    "p.pass_name(\"aroona\")\n",
    "p.pass_lname(\"atmaram\")\n"
   ]
  },
  {
   "cell_type": "code",
   "execution_count": 30,
   "metadata": {},
   "outputs": [
    {
     "data": {
      "text/plain": [
       "'aroona'"
      ]
     },
     "execution_count": 30,
     "metadata": {},
     "output_type": "execute_result"
    }
   ],
   "source": [
    "p.name"
   ]
  },
  {
   "cell_type": "code",
   "execution_count": 31,
   "metadata": {},
   "outputs": [],
   "source": [
    "# protected variable _\n",
    "\n",
    "# data to class\n",
    "\n",
    "class person:\n",
    "    def pass_name(self,name):\n",
    "        self._name = name\n",
    "        \n",
    "    def pass_lname(self,lname):\n",
    "        self._lname = lname\n",
    "    def pass_yob(self,yob):\n",
    "        self._yob = yob\n",
    "        "
   ]
  },
  {
   "cell_type": "code",
   "execution_count": 32,
   "metadata": {},
   "outputs": [],
   "source": [
    "p = person()"
   ]
  },
  {
   "cell_type": "code",
   "execution_count": 33,
   "metadata": {},
   "outputs": [
    {
     "data": {
      "text/plain": [
       "{}"
      ]
     },
     "execution_count": 33,
     "metadata": {},
     "output_type": "execute_result"
    }
   ],
   "source": [
    "p.__dict__"
   ]
  },
  {
   "cell_type": "code",
   "execution_count": 38,
   "metadata": {},
   "outputs": [],
   "source": [
    "# inheritance\n",
    "class student(person):\n",
    "    def __int__(self, roll,cname,*args):\n",
    "        super(student,self).__init__  # super(student,self) = person\n",
    "        self.roll = roll\n",
    "        self.cname = cname "
   ]
  },
  {
   "cell_type": "code",
   "execution_count": 39,
   "metadata": {},
   "outputs": [
    {
     "ename": "TypeError",
     "evalue": "__init__() missing 3 required positional arguments: 'name', 'surname', and 'yob'",
     "output_type": "error",
     "traceback": [
      "\u001b[1;31m---------------------------------------------------------------------------\u001b[0m",
      "\u001b[1;31mTypeError\u001b[0m                                 Traceback (most recent call last)",
      "\u001b[1;32m<ipython-input-39-3433585f5177>\u001b[0m in \u001b[0;36m<module>\u001b[1;34m\u001b[0m\n\u001b[1;32m----> 1\u001b[1;33m \u001b[0mstude\u001b[0m \u001b[1;33m=\u001b[0m \u001b[0mstudent\u001b[0m\u001b[1;33m(\u001b[0m\u001b[1;33m)\u001b[0m\u001b[1;33m\u001b[0m\u001b[1;33m\u001b[0m\u001b[0m\n\u001b[0m",
      "\u001b[1;31mTypeError\u001b[0m: __init__() missing 3 required positional arguments: 'name', 'surname', and 'yob'"
     ]
    }
   ],
   "source": [
    "stude = student(111,\"dsdsa\",\"dsa\",\"dad\",23123)   "
   ]
  }
 ],
 "metadata": {
  "kernelspec": {
   "display_name": "Python 3",
   "language": "python",
   "name": "python3"
  },
  "language_info": {
   "codemirror_mode": {
    "name": "ipython",
    "version": 3
   },
   "file_extension": ".py",
   "mimetype": "text/x-python",
   "name": "python",
   "nbconvert_exporter": "python",
   "pygments_lexer": "ipython3",
   "version": "3.8.3"
  }
 },
 "nbformat": 4,
 "nbformat_minor": 4
}
